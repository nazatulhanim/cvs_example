{
  "nbformat": 4,
  "nbformat_minor": 0,
  "metadata": {
    "kernelspec": {
      "name": "python3",
      "display_name": "Python 3"
    },
    "colab": {
      "name": "Exercise 03 - Morphology and Segmentation.ipynb",
      "provenance": [],
      "collapsed_sections": []
    }
  },
  "cells": [
    {
      "cell_type": "markdown",
      "metadata": {
        "collapsed": true,
        "id": "uOk9i5tEnxlJ",
        "colab_type": "text"
      },
      "source": [
        "# Mathematical Morphology, Thresholding, and Segmentation\n",
        "\n",
        "In this notebook we'll explore several image manipulation techniques that can be used together to separate objects within an image.\n",
        "\n",
        "## Mathematical Morphology\n",
        "We'll start by looking at some basic mathematical morphological operations - specifically, erosion and dilation.\n",
        "\n",
        "Dilation and erosion are operations we can perform on images using a structuring element - which is like a filter kernel that acts as a binary mask on the pixels in the image.\n",
        "\n",
        "For example, let's create a simple binary image of a square:"
      ]
    },
    {
      "cell_type": "code",
      "metadata": {
        "trusted": true,
        "id": "A4DBy20onxlL",
        "colab_type": "code",
        "colab": {
          "base_uri": "https://localhost:8080/",
          "height": 211
        },
        "outputId": "d49f271c-3a16-4377-8375-5a5f7fc49eb6"
      },
      "source": [
        "import numpy as np\n",
        "from skimage import morphology as sk_mm\n",
        "from matplotlib import pyplot as plt\n",
        "\n",
        "# Required magic to display matplotlib plots in notebooks\n",
        "%matplotlib inline\n",
        "\n",
        "\n",
        "square = np.array([[0, 0, 0, 0, 0],\n",
        "                   [0, 1, 1, 1, 0],\n",
        "                   [0, 1, 1, 1, 0],\n",
        "                   [0, 1, 1, 1, 0],\n",
        "                   [0, 0, 0, 0, 0]], dtype=np.uint8)\n",
        "\n",
        "\n",
        "# Display it\n",
        "fig = plt.figure(figsize=(3,3))\n",
        "plt.imshow(square, cmap=\"binary\")\n",
        "plt.show()"
      ],
      "execution_count": 4,
      "outputs": [
        {
          "output_type": "display_data",
          "data": {
            "image/png": "[encoded data removed]",
            "text/plain": [
              "<Figure size 216x216 with 1 Axes>"
            ]
          },
          "metadata": {
            "tags": [],
            "needs_background": "light"
          }
        }
      ]
    },
    {
      "cell_type": "markdown",
      "metadata": {
        "id": "V8b12d-GnxlQ",
        "colab_type": "text"
      },
      "source": [
        "We'll perform mathematical morphological operations on this by applying the following simple structuring element:"
      ]
    },
    {
      "cell_type": "code",
      "metadata": {
        "trusted": true,
        "id": "B4G21IiynxlQ",
        "colab_type": "code",
        "colab": {
          "base_uri": "https://localhost:8080/",
          "height": 266
        },
        "outputId": "1fc1b7e9-f1ef-4e58-d91b-174200186fc5"
      },
      "source": [
        "struct_element = sk_mm.selem.diamond(1)\n",
        "struct_element = sk_mm.selem.square(3)\n",
        "struct_element = sk_mm.diamond(radius=1)\n",
        "\n",
        "print(struct_element)\n",
        "\n",
        "# Display it\n",
        "fig = plt.figure(figsize=(3,3))\n",
        "plt.imshow(struct_element, cmap=\"binary\")\n",
        "plt.show()"
      ],
      "execution_count": 40,
      "outputs": [
        {
          "output_type": "stream",
          "text": [
            "[[0 1 0]\n",
            " [1 1 1]\n",
            " [0 1 0]]\n"
          ],
          "name": "stdout"
        },
        {
          "output_type": "display_data",
          "data": {
            "image/png": "[encoded data removed]",
            "text/plain": [
              "<Figure size 216x216 with 1 Axes>"
            ]
          },
          "metadata": {
            "tags": [],
            "needs_background": "light"
          }
        }
      ]
    },
    {
      "cell_type": "markdown",
      "metadata": {
        "id": "IS6guiVdnxlU",
        "colab_type": "text"
      },
      "source": [
        "### Erosion\n",
        "Erosion has the effect of removing pixels at the edges of shapes in the image. The structuring element only retains center pixels where *all* of the values in the area of the image beneath the structuring element match the corresponding pixels in the structuring element itself (in other words, it performs a logical AND operation) to set the target pixel."
      ]
    },
    {
      "cell_type": "code",
      "metadata": {
        "trusted": true,
        "id": "exCQlRuAnxlU",
        "colab_type": "code",
        "colab": {
          "base_uri": "https://localhost:8080/",
          "height": 216
        },
        "outputId": "0cfd9a09-39ff-4081-c903-16dabeb376ca"
      },
      "source": [
        "# Apply erosion\n",
        "eroded_square = sk_mm.erosion(square, struct_element)\n",
        "\n",
        "fig = plt.figure(figsize=(6, 6))\n",
        "# Plot original image\n",
        "a=fig.add_subplot(1, 2, 1)\n",
        "plt.imshow(square, cmap=\"binary\")\n",
        "a.set_title(\"Original\")\n",
        "\n",
        "# Plot eroded image\n",
        "a=fig.add_subplot(1, 2, 2)\n",
        "plt.imshow(eroded_square, cmap=\"binary\")\n",
        "a.set_title(\"Eroded\")\n",
        "\n",
        "plt.show()"
      ],
      "execution_count": 36,
      "outputs": [
        {
          "output_type": "display_data",
          "data": {
            "image/png": "[encoded data removed]",
            "text/plain": [
              "<Figure size 432x432 with 2 Axes>"
            ]
          },
          "metadata": {
            "tags": [],
            "needs_background": "light"
          }
        }
      ]
    },
    {
      "cell_type": "markdown",
      "metadata": {
        "id": "ZUQH6xi8nxlX",
        "colab_type": "text"
      },
      "source": [
        "### Dilation\n",
        "Dilation has the effect of adding pixels at the edges of shapes in the image. The structuring element only retains center pixels where *any* of the values in the area of the image beneath the structuring element match the corresponding pixels in the structuring element itself (in other words, it performs a logical OR operation) to set the target pixel."
      ]
    },
    {
      "cell_type": "code",
      "metadata": {
        "trusted": true,
        "id": "BQCFRdKFnxlY",
        "colab_type": "code",
        "colab": {
          "base_uri": "https://localhost:8080/",
          "height": 216
        },
        "outputId": "302f383c-046a-4772-c97a-650eabecd837"
      },
      "source": [
        "#Apply dilation\n",
        "dilated_square = sk_mm.dilation(square, struct_element)\n",
        "\n",
        "# Display it\n",
        "fig = plt.figure(figsize=(6, 6))\n",
        "\n",
        "# Plot original image\n",
        "a=fig.add_subplot(1, 2, 1)\n",
        "plt.imshow(square, cmap=\"binary\")\n",
        "a.set_title(\"Original\")\n",
        "\n",
        "# Plot dilated image\n",
        "a=fig.add_subplot(1, 2, 2)\n",
        "plt.imshow(dilated_square, cmap=\"binary\")\n",
        "a.set_title(\"Dilated\")\n",
        "\n",
        "plt.show()"
      ],
      "execution_count": 41,
      "outputs": [
        {
          "output_type": "display_data",
          "data": {
            "image/png": "[encoded data removed]",
            "text/plain": [
              "<Figure size 432x432 with 2 Axes>"
            ]
          },
          "metadata": {
            "tags": [],
            "needs_background": "light"
          }
        }
      ]
    },
    {
      "cell_type": "markdown",
      "metadata": {
        "id": "GeVps5TMnxlb",
        "colab_type": "text"
      },
      "source": [
        "### Combining Erosion and Dilation\n",
        "\n",
        "You can combine erosion and dilation to have specific effects on images. For example, here's the effect of applying erosion followed by dilation:"
      ]
    },
    {
      "cell_type": "code",
      "metadata": {
        "trusted": true,
        "id": "8Z9Jvm5Gnxlc",
        "colab_type": "code",
        "colab": {
          "base_uri": "https://localhost:8080/",
          "height": 216
        },
        "outputId": "5740c8a5-cd44-4f6f-f910-2c9a7810982e"
      },
      "source": [
        "dilated_square = sk_mm.dilation(square, struct_element)\n",
        "closed_square = sk_mm.erosion(dilated_square, struct_element)\n",
        "\n",
        "fig = plt.figure(figsize=(6, 6))\n",
        "\n",
        "# Plot original image\n",
        "a=fig.add_subplot(1, 2, 1)\n",
        "image_plot_1 = plt.imshow(square, cmap=\"binary\")\n",
        "a.set_title(\"Original\")\n",
        "\n",
        "# Plot closed image\n",
        "a=fig.add_subplot(1, 2, 2)\n",
        "image_plot_2 = plt.imshow(closed_square, cmap=\"binary\")\n",
        "a.set_title(\"Closed\")\n",
        "\n",
        "plt.show()"
      ],
      "execution_count": 42,
      "outputs": [
        {
          "output_type": "display_data",
          "data": {
            "image/png": "[encoded data removed]",
            "text/plain": [
              "<Figure size 432x432 with 2 Axes>"
            ]
          },
          "metadata": {
            "tags": [],
            "needs_background": "light"
          }
        }
      ]
    },
    {
      "cell_type": "markdown",
      "metadata": {
        "id": "t5Cestjwnxlf",
        "colab_type": "text"
      },
      "source": [
        "And here's the opposite - dilation followed by erosion:"
      ]
    },
    {
      "cell_type": "code",
      "metadata": {
        "trusted": true,
        "id": "juqUzgSinxlf",
        "colab_type": "code",
        "colab": {}
      },
      "source": [
        "eroded_square = sk_mm.erosion(square, struct_element)\n",
        "opened_square = sk_mm.dilation(eroded_square, struct_element)\n",
        "\n",
        "# Display it\n",
        "fig = plt.figure(figsize=(6, 6))\n",
        "\n",
        "# Plot original image\n",
        "a=fig.add_subplot(1, 2, 1)\n",
        "image_plot_1 = plt.imshow(square, cmap=\"binary\")\n",
        "a.set_title(\"Original\")\n",
        "\n",
        "# Plot opened image\n",
        "a=fig.add_subplot(1, 2, 2)\n",
        "image_plot_2 = plt.imshow(opened_square, cmap=\"binary\")\n",
        "a.set_title(\"Opened\")\n",
        "\n",
        "plt.show()"
      ],
      "execution_count": 0,
      "outputs": []
    },
    {
      "cell_type": "markdown",
      "metadata": {
        "id": "N6kmv0qKnxlj",
        "colab_type": "text"
      },
      "source": [
        "These combinations of erosion and dilation have specific names. Dilation followed by erosion is called *closing*, and erosion followed by dilation is called *opening*.\n",
        "\n",
        "There are dedicated functions for these combinatory operations in Scikit-image:"
      ]
    },
    {
      "cell_type": "code",
      "metadata": {
        "trusted": true,
        "id": "V0Pq9Ppxnxlk",
        "colab_type": "code",
        "colab": {}
      },
      "source": [
        "# Apply closing and opening\n",
        "closed_square = sk_mm.closing(square, struct_element)\n",
        "opened_square = sk_mm.opening(square, struct_element)\n",
        "\n",
        "# Display it\n",
        "fig = plt.figure(figsize=(9, 6))\n",
        "\n",
        "# Plot original image\n",
        "a=fig.add_subplot(1, 3, 1)\n",
        "image_plot_1 = plt.imshow(square, cmap=\"binary\")\n",
        "a.set_title(\"Original\")\n",
        "\n",
        "# Plot closed image\n",
        "a=fig.add_subplot(1, 3, 2)\n",
        "image_plot_2 = plt.imshow(closed_square, cmap=\"binary\")\n",
        "a.set_title(\"Closed\")\n",
        "\n",
        "# Plot opened image\n",
        "a=fig.add_subplot(1, 3, 3)\n",
        "image_plot_2 = plt.imshow(opened_square, cmap=\"binary\")\n",
        "a.set_title(\"Opened\")\n",
        "\n",
        "plt.show()"
      ],
      "execution_count": 0,
      "outputs": []
    },
    {
      "cell_type": "markdown",
      "metadata": {
        "id": "LOPE1XDhnxlo",
        "colab_type": "text"
      },
      "source": [
        "So what effect do these mathematical morphology operations have on real images, rather than just binary shapes? Let's take a look:"
      ]
    },
    {
      "cell_type": "code",
      "metadata": {
        "trusted": true,
        "id": "apB3ufp_nxlo",
        "colab_type": "code",
        "colab": {}
      },
      "source": [
        "import os\n",
        "from skimage import io as sk_io\n",
        "import skimage.color as sk_col\n",
        "\n",
        "# Load the image from the source file\n",
        "image_file = \"../data/voc/plane/008372.jpg\"\n",
        "image = sk_io.imread(image_file)\n",
        "\n",
        "# Convert to grayscale so we only have one channel\n",
        "bw_image = sk_col.rgb2gray(image)\n",
        "\n",
        "# Apply operations\n",
        "eroded_image = sk_mm.erosion(bw_image)\n",
        "dilated_image = sk_mm.dilation(bw_image)\n",
        "closed_image = sk_mm.closing(bw_image)\n",
        "opened_image = sk_mm.opening(bw_image)\n",
        "\n",
        "# Display it\n",
        "fig = plt.figure(figsize=(20,20))\n",
        "\n",
        "# Plot original image\n",
        "a=fig.add_subplot(5, 1, 1)\n",
        "plt.imshow(bw_image, cmap=\"gray\")\n",
        "a.set_title(\"Original\")\n",
        "\n",
        "# Plot eroded image\n",
        "a=fig.add_subplot(5, 1, 2)\n",
        "plt.imshow(eroded_image, cmap=\"gray\")\n",
        "a.set_title(\"Eroded\")\n",
        "\n",
        "# Plot dilated image\n",
        "a=fig.add_subplot(5, 1, 3)\n",
        "plt.imshow(dilated_image, cmap=\"gray\")\n",
        "a.set_title(\"Dilated\")\n",
        "\n",
        "# Plot closed image\n",
        "a=fig.add_subplot(5, 1, 4)\n",
        "plt.imshow(closed_image, cmap=\"gray\")\n",
        "a.set_title(\"Closed\")\n",
        "\n",
        "# Plot opened image\n",
        "a=fig.add_subplot(5, 1, 5)\n",
        "plt.imshow(opened_image, cmap=\"gray\")\n",
        "a.set_title(\"Opened\")\n",
        "\n",
        "plt.show()"
      ],
      "execution_count": 0,
      "outputs": []
    },
    {
      "cell_type": "markdown",
      "metadata": {
        "id": "h-jJjvY_nxlr",
        "colab_type": "text"
      },
      "source": [
        "In general, erosion and opening have the effect of \"brightening\" the image."
      ]
    },
    {
      "cell_type": "markdown",
      "metadata": {
        "id": "2KHjh1B8nxls",
        "colab_type": "text"
      },
      "source": [
        "## Thresholding\n",
        "\n",
        "Thresholding is a way to *binarize* (separate the image into areas of black and white) based a boundary pixel value. In the simplest example, we can take a grayscale image and set the threshold boundary to the mean pixel value:"
      ]
    },
    {
      "cell_type": "code",
      "metadata": {
        "trusted": true,
        "id": "XoYgkDkonxlt",
        "colab_type": "code",
        "colab": {}
      },
      "source": [
        "import os\n",
        "import numpy as np\n",
        "from matplotlib import pyplot as plt\n",
        "from skimage import io as sk_io, color as sk_col, morphology as sk_mm\n",
        "from skimage.filters import threshold_mean\n",
        "\n",
        "%matplotlib inline\n",
        "\n",
        "# Load the image from the source file\n",
        "image_file = \"../data/voc/plane/008372.jpg\"\n",
        "image = sk_io.imread(image_file)\n",
        "\n",
        "# Convert to grayscale so we only have one channel\n",
        "bw_image = sk_col.rgb2gray(image)\n",
        "\n",
        "# Find the mean threshold value\n",
        "mean_val = threshold_mean(bw_image)\n",
        "\n",
        "# Threshold the image\n",
        "binary_image = bw_image > mean_val\n",
        "\n",
        "# Plot the thresholded image\n",
        "fig = plt.figure(figsize=(3,3))\n",
        "plt.imshow(binary_image, cmap=\"gray\")\n",
        "plt.title(\"Mean Threshold: \" + str(mean_val))\n",
        "plt.show()"
      ],
      "execution_count": 0,
      "outputs": []
    },
    {
      "cell_type": "markdown",
      "metadata": {
        "id": "gPYQVNUYnxlw",
        "colab_type": "text"
      },
      "source": [
        "The threshold value is the mean pixel intensity (which in this fgrascale image is normalized getween 0 and 1). All of the pixels with a value higher than the threshold are set to white, the others are set to black. \n",
        "\n",
        "There are various ways to calculate the threshold value. Scikit-learn has a handy filter that applies multiple techniques so you can compare the results:"
      ]
    },
    {
      "cell_type": "code",
      "metadata": {
        "trusted": true,
        "id": "JfRL265Wnxlx",
        "colab_type": "code",
        "colab": {}
      },
      "source": [
        "from skimage.filters import try_all_threshold\n",
        "\n",
        "fig, ax = try_all_threshold(bw_image, figsize=(10, 10), verbose=False)\n",
        "plt.show()"
      ],
      "execution_count": 0,
      "outputs": []
    },
    {
      "cell_type": "markdown",
      "metadata": {
        "id": "EFPRcoz7nxl0",
        "colab_type": "text"
      },
      "source": [
        "Of these, there are several threshold values that clearly separate the plane in the foregrounds from the background sky.\n",
        "To better understand this, let's look at a histogram of the grayscale pixel values."
      ]
    },
    {
      "cell_type": "code",
      "metadata": {
        "trusted": true,
        "id": "HmND7872nxl1",
        "colab_type": "code",
        "colab": {}
      },
      "source": [
        "# Plot a histogram - we need to use ravel to \"flatten\" the 3 dimensions\n",
        "plt.hist(bw_image.ravel())\n",
        "plt.show()"
      ],
      "execution_count": 0,
      "outputs": []
    },
    {
      "cell_type": "markdown",
      "metadata": {
        "id": "5xhF69eonxl4",
        "colab_type": "text"
      },
      "source": [
        "Our image is slightly bi-modal - in other words it has two peaks or *maxima*. Both the **Minimum** and **Otsu** thresholding techniques explit this by finding a value between the maxima:"
      ]
    },
    {
      "cell_type": "code",
      "metadata": {
        "trusted": true,
        "id": "OrRodYm4nxl4",
        "colab_type": "code",
        "colab": {}
      },
      "source": [
        "from skimage.filters import threshold_minimum, threshold_otsu\n",
        "\n",
        "# Apply Minimum thresholding\n",
        "min_val = threshold_minimum(bw_image)\n",
        "binary_image_min = bw_image > min_val\n",
        "\n",
        "# Apply Otsu thresholding\n",
        "otsu_val = threshold_otsu(bw_image)\n",
        "binary_image_otsu = bw_image > otsu_val\n",
        "\n",
        "# Display the thresholded images\n",
        "fig = plt.figure(figsize=(12,12))\n",
        "\n",
        "# Minimum\n",
        "a=fig.add_subplot(1, 2, 1)\n",
        "image_plot_1 = plt.imshow(binary_image_min, cmap=\"gray\")\n",
        "a.set_title(\"Min Threshold: \" + str(min_val))\n",
        "\n",
        "# Otsu\n",
        "a=fig.add_subplot(1, 2, 2)\n",
        "image_plot_2 = plt.imshow(binary_image_otsu, cmap=\"gray\")\n",
        "a.set_title(\"Otsu Threshold: \" + str(otsu_val))\n",
        "\n",
        "plt.show()"
      ],
      "execution_count": 0,
      "outputs": []
    },
    {
      "cell_type": "markdown",
      "metadata": {
        "id": "oAljD__vnxl7",
        "colab_type": "text"
      },
      "source": [
        "Among the results returned by the **try_all_thresholds** method was one from the **Triangle** threshold filter. This almost completely separated the foreground from the background other than a few pixels from the background that are over the threshold - particularly on the left edge of the image and around the wings of the plane. In this case, we can apply some mathematical morphology to clean up these sparse pixels:"
      ]
    },
    {
      "cell_type": "code",
      "metadata": {
        "trusted": true,
        "id": "vs5vsKZ7nxl8",
        "colab_type": "code",
        "colab": {}
      },
      "source": [
        "from skimage.filters import threshold_triangle\n",
        "\n",
        "# Apply Triangle thresholding\n",
        "tri_val = threshold_triangle(bw_image)\n",
        "binary_image_tri = bw_image > tri_val\n",
        "\n",
        "# Apply erosion\n",
        "closed_image_tri = sk_mm.closing(binary_image_tri)\n",
        "\n",
        "fig = plt.figure(figsize=(12,12))\n",
        "\n",
        "# Plot original image\n",
        "a=fig.add_subplot(1, 2, 1)\n",
        "plt.imshow(binary_image_tri, cmap=\"gray\")\n",
        "a.set_title(\"Triangle Thresholding\")\n",
        "\n",
        "# Plot eroded image\n",
        "a=fig.add_subplot(1, 2, 2)\n",
        "plt.imshow(closed_image_tri, cmap=\"gray\")\n",
        "a.set_title(\"Triangle Thresholding + Closing\")\n",
        "\n",
        "plt.show()"
      ],
      "execution_count": 0,
      "outputs": []
    },
    {
      "cell_type": "markdown",
      "metadata": {
        "id": "d5Q_OQ8Fnxl_",
        "colab_type": "text"
      },
      "source": [
        "## Watershed Segmentation\n",
        "\n",
        "So far, we've used thresholding to separate the foreground from the background of an image. However, in the previous example we were dealing with only one foreground object. What if we have multipel foreground objects that overlap, like this?"
      ]
    },
    {
      "cell_type": "code",
      "metadata": {
        "trusted": true,
        "id": "mDbSVU7Tnxl_",
        "colab_type": "code",
        "colab": {}
      },
      "source": [
        "from skimage import io as sk_io\n",
        "from skimage.filters import threshold_otsu\n",
        "from matplotlib import pyplot as plt\n",
        "%matplotlib inline\n",
        "\n",
        "# Load the image from the source file\n",
        "planes_image_file = \"../data/object_detection/007280.jpg\"\n",
        "planes_image = sk_io.imread(planes_image_file)\n",
        "\n",
        "fig = plt.figure(figsize=(6,6))\n",
        "plt.imshow(planes_image)\n",
        "plt.show()"
      ],
      "execution_count": 0,
      "outputs": []
    },
    {
      "cell_type": "markdown",
      "metadata": {
        "trusted": true,
        "id": "rqJIrkcTnxmF",
        "colab_type": "text"
      },
      "source": [
        "The two planes in this image overlap slightly, just at the tail of the lower plane.\n",
        "\n",
        "Let's apply a threshold to this image, and invert it so that the background is black and the foreground white:"
      ]
    },
    {
      "cell_type": "code",
      "metadata": {
        "trusted": true,
        "id": "hjqC8QICnxmG",
        "colab_type": "code",
        "colab": {}
      },
      "source": [
        "import numpy as np\n",
        "from skimage import color as sk_col\n",
        "from skimage.filters import threshold_otsu\n",
        "\n",
        "# Convert to grayscale so we only have one channel\n",
        "bw_planes = sk_col.rgb2gray(planes_image)\n",
        "planes_otsu = threshold_otsu(bw_planes)\n",
        "thresh_planes = bw_planes > planes_otsu\n",
        "\n",
        "# Convert the thresholded image to its inverse\n",
        "inverse_thresh = np.invert(thresh_planes)\n",
        "\n",
        "fig = plt.figure(figsize=(6,6))\n",
        "plt.imshow(inverse_thresh, \"gray\")\n",
        "plt.show()"
      ],
      "execution_count": 0,
      "outputs": []
    },
    {
      "cell_type": "markdown",
      "metadata": {
        "id": "MGHsSjdKnxmJ",
        "colab_type": "text"
      },
      "source": [
        "Our goal is to separate the background and foreground, so let's use some mathematical morphology to clean up some of the noise and determine what's definitely background in this image:"
      ]
    },
    {
      "cell_type": "code",
      "metadata": {
        "trusted": true,
        "id": "rlQstNfznxmJ",
        "colab_type": "code",
        "colab": {}
      },
      "source": [
        "from skimage import morphology as sk_mm\n",
        "\n",
        "# Use opening and dilation to find the background\n",
        "kernel = sk_mm.selem.square(3)\n",
        "opened_thresh = sk_mm.opening(inverse_thresh, kernel)\n",
        "background = sk_mm.dilation(opened_thresh, kernel)\n",
        "\n",
        "fig = plt.figure(figsize=(6,6))\n",
        "plt.imshow(background,cmap=\"gray\", interpolation='nearest')\n",
        "plt.show()"
      ],
      "execution_count": 0,
      "outputs": []
    },
    {
      "cell_type": "markdown",
      "metadata": {
        "id": "idYwtJS1nxmM",
        "colab_type": "text"
      },
      "source": [
        "Finding the foreground is a little more tricky, because there's overlap between the foreground objects. We could just use erosion to dispose of the boundery pixels, but another approach is to calculate distances from each foreground pixel to the background. Then we can apply a threshold to the distances to separate the definite foreground from the pixels where we don't know if they're foreground or background."
      ]
    },
    {
      "cell_type": "code",
      "metadata": {
        "trusted": true,
        "id": "3BJv6x9ynxmN",
        "colab_type": "code",
        "colab": {}
      },
      "source": [
        "from scipy import ndimage as ndi\n",
        "from skimage.filters import threshold_minimum\n",
        "\n",
        "distance = ndi.distance_transform_edt(opened_thresh)\n",
        "\n",
        "foreground_threshold = threshold_otsu(distance)\n",
        "foreground = distance > foreground_threshold\n",
        "foreground = np.uint8(foreground)\n",
        "\n",
        "unknown = background - foreground\n",
        "\n",
        "fig = plt.figure(figsize=(16,16))\n",
        "\n",
        "a=fig.add_subplot(1, 3, 1)\n",
        "plt.imshow(distance, cmap=\"gray\")\n",
        "a.set_title(\"Distances\")\n",
        "\n",
        "# Plot eroded image\n",
        "a=fig.add_subplot(1, 3, 2)\n",
        "plt.imshow(foreground, cmap=\"gray\")\n",
        "a.set_title(\"Foreground\")\n",
        "\n",
        "# Plot eroded image\n",
        "a=fig.add_subplot(1, 3, 3)\n",
        "plt.imshow(unknown, cmap=\"gray\")\n",
        "a.set_title(\"Unknown\")\n",
        "\n",
        "plt.show()\n",
        "\n"
      ],
      "execution_count": 0,
      "outputs": []
    },
    {
      "cell_type": "markdown",
      "metadata": {
        "id": "LTcwiaarnxmQ",
        "colab_type": "text"
      },
      "source": [
        "Now we'll apply markers to the foreground obejcts, assigning each connected area of foreground different value"
      ]
    },
    {
      "cell_type": "code",
      "metadata": {
        "trusted": true,
        "id": "nCquQRHFnxmR",
        "colab_type": "code",
        "colab": {}
      },
      "source": [
        "from skimage.feature import peak_local_max\n",
        "\n",
        "local_maxi = peak_local_max(foreground, indices=False, footprint=np.ones((3, 3)), labels=inverse_thresh)\n",
        "markers = ndi.label(local_maxi)[0]\n",
        "\n",
        "fig = plt.figure(figsize=(6,6))\n",
        "plt.imshow(markers, \"gray\")\n",
        "plt.show()"
      ],
      "execution_count": 0,
      "outputs": []
    },
    {
      "cell_type": "markdown",
      "metadata": {
        "id": "CyQph9KynxmT",
        "colab_type": "text"
      },
      "source": [
        "And finally, we'll use the watershed technique to fill in the different foreground objects until they cover the unknown regions. The end result of this is that we've segmented the image to show each discrete object as a different shade."
      ]
    },
    {
      "cell_type": "code",
      "metadata": {
        "trusted": true,
        "id": "XxvAplGOnxmU",
        "colab_type": "code",
        "colab": {}
      },
      "source": [
        "from skimage.morphology import watershed\n",
        "\n",
        "# Apply watershed\n",
        "labels = watershed(inverse_thresh, markers)\n",
        "\n",
        "# Invert the image back so the background is white\n",
        "inverted_labels = np.invert(labels)\n",
        "\n",
        "fig = plt.figure(figsize=(6,6))\n",
        "plt.imshow(inverted_labels, \"gray\")\n",
        "plt.show()"
      ],
      "execution_count": 0,
      "outputs": []
    }
  ]
}